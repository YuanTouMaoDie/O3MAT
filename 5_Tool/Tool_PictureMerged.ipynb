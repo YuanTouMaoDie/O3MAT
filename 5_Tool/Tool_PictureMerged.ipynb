{
 "cells": [
  {
   "cell_type": "code",
   "execution_count": 2,
   "metadata": {},
   "outputs": [
    {
     "name": "stdout",
     "output_type": "stream",
     "text": [
      "对于年份 2019 和时期 ['DJF', 'MAM', 'JJA', 'SON']，合并后的图片已保存为 /DeepLearning/mnt/shixiansheng/data_fusion/output/MergedMergedDelta/2019-2002_Series1_mergedDelta.png\n",
      "对于年份 2019 和时期 ['Apr-Sep', 'Annual', 'top-10']，合并后的图片已保存为 /DeepLearning/mnt/shixiansheng/data_fusion/output/MergedMergedDelta/2019-2002_Series2_mergedDetla.png\n",
      "对于年份 2016 和时期 ['DJF', 'MAM', 'JJA', 'SON']，合并后的图片已保存为 /DeepLearning/mnt/shixiansheng/data_fusion/output/MergedMergedDelta/2016-2002_Series1_mergedDelta.png\n",
      "对于年份 2016 和时期 ['Apr-Sep', 'Annual', 'top-10']，合并后的图片已保存为 /DeepLearning/mnt/shixiansheng/data_fusion/output/MergedMergedDelta/2016-2002_Series2_mergedDetla.png\n"
     ]
    }
   ],
   "source": [
    "from PIL import Image\n",
    "import os\n",
    "\n",
    "def merge_images(years, period_combinations, output_patterns, spacing=10):\n",
    "    input_base_path = '/DeepLearning/mnt/shixiansheng/data_fusion/output/MergedDelta/'\n",
    "    output_base_path = '/DeepLearning/mnt/shixiansheng/data_fusion/output/MergedMergedDelta/'\n",
    "    # 确保输出目录存在\n",
    "    if not os.path.exists(output_base_path):\n",
    "        os.makedirs(output_base_path)\n",
    "\n",
    "    for year in years:\n",
    "        for periods, output_pattern in zip(period_combinations, output_patterns):\n",
    "            images = []\n",
    "\n",
    "            for period in periods:\n",
    "                image_name = f\"{year}-2002_{period}_mergedDelta.png\"\n",
    "                image_path = os.path.join(input_base_path, image_name)\n",
    "                if os.path.exists(image_path):\n",
    "                    try:\n",
    "                        img = Image.open(image_path)\n",
    "                        images.append(img)\n",
    "                    except Exception as e:\n",
    "                        print(f\"打开 {image_path} 时出错: {e}\")\n",
    "                else:\n",
    "                    print(f\"{image_path} 不存在。\")\n",
    "\n",
    "            if not images:\n",
    "                print(f\"对于年份 {year} 和时期 {periods}，没有可用的图片进行合并。\")\n",
    "                continue\n",
    "\n",
    "            total_height = sum([img.height for img in images]) + (len(images) - 1) * spacing\n",
    "            max_width = max([img.width for img in images])\n",
    "\n",
    "            merged_image = Image.new('RGB', (max_width, total_height))\n",
    "            y_offset = 0\n",
    "            for img in images:\n",
    "                merged_image.paste(img, (0, y_offset))\n",
    "                y_offset += img.height + spacing\n",
    "\n",
    "            output_name = output_pattern.format(year=year)\n",
    "            output_full_path = os.path.join(output_base_path, output_name)\n",
    "            try:\n",
    "                merged_image.save(output_full_path)\n",
    "                print(f\"对于年份 {year} 和时期 {periods}，合并后的图片已保存为 {output_full_path}\")\n",
    "            except Exception as e:\n",
    "                print(f\"保存合并后的图片 {output_full_path} 时出错: {e}\")\n",
    "\n",
    "\n",
    "if __name__ == \"__main__\":\n",
    "    years = [2002, 2003,2004, 2005, 2006, 2007, 2008, 2009, 2010, 2011, 2012, 2013, 2014, 2015, 2016, 2017, 2018]\n",
    "    years = [2019,2016]\n",
    "    period_combinations = [\n",
    "        ['DJF', 'MAM', 'JJA', 'SON'],\n",
    "        ['Apr-Sep', 'Annual', 'top-10']\n",
    "    ]\n",
    "    output_patterns = [\n",
    "        \"{year}-2002_Series1_mergedDelta.png\",\n",
    "        \"{year}-2002_Series2_mergedDetla.png\"\n",
    "    ]\n",
    "    # 可以修改这个参数来调整间距\n",
    "    spacing = -90\n",
    "    merge_images(years, period_combinations, output_patterns, spacing)\n",
    "    "
   ]
  }
 ],
 "metadata": {
  "kernelspec": {
   "display_name": "devin_env",
   "language": "python",
   "name": "python3"
  },
  "language_info": {
   "codemirror_mode": {
    "name": "ipython",
    "version": 3
   },
   "file_extension": ".py",
   "mimetype": "text/x-python",
   "name": "python",
   "nbconvert_exporter": "python",
   "pygments_lexer": "ipython3",
   "version": "3.9.12"
  }
 },
 "nbformat": 4,
 "nbformat_minor": 2
}
