{
 "cells": [
  {
   "cell_type": "code",
   "execution_count": null,
   "metadata": {},
   "outputs": [],
   "source": [
    "import sys\n",
    "sys.path.append(r\"/DeepLearning/mnt/Devin/data_fusion\")\n",
    "from data_fusion_woker import plot_us_map,save_daily_data_fusion_to_metrics\n",
    "import os\n",
    "\n",
    "if __name__ == \"__main__\":\n",
    "    save_path = r\"/DeepLearning/mnt/Devin/data_fusion/output/images\"\n",
    "    if not os.path.exists(save_path):\n",
    "        os.makedirs(save_path)\n",
    "    \n",
    "    model_file = r\"/backupdata/data_EPA/EQUATES/EQUATES_data/HR2DAY_LST_ACONC_v532_cb6r3_ae7_aq_WR413_MYR_STAGE_2011_12US1_2011.nc\"\n",
    "    data_fusion_file =r\"/DeepLearning/mnt/Devin/data_fusion/output/daily_fused_data_2011.csv\"    \n",
    "    file_list=['/DeepLearning/mnt/Devin/data_fusion/output/2011_daily_DF_98th percentile O3-MDA8.csv', '/DeepLearning/mnt/Devin/data_fusion/output/2011_daily_DF_Average of top-10 O3-MDA8 days.csv', '/DeepLearning/mnt/Devin/data_fusion/output/2011_daily_DF_Annual O3-MDA8.csv', '/DeepLearning/mnt/Devin/data_fusion/output/2011_daily_DF_Summer season average (Apr-Sep) of O3-MDA8.csv', '/DeepLearning/mnt/Devin/data_fusion/output/2011_daily_DF_seasonal_O3-MDA8.csv']\n",
    "\n",
    "    for file in file_list:  \n",
    "        plot_us_map(file,model_file,save_path)        \n",
    "    print(\"Done!\")  "
   ]
  }
 ],
 "metadata": {
  "kernelspec": {
   "display_name": "dl",
   "language": "python",
   "name": "python3"
  },
  "language_info": {
   "codemirror_mode": {
    "name": "ipython",
    "version": 3
   },
   "file_extension": ".py",
   "mimetype": "text/x-python",
   "name": "python",
   "nbconvert_exporter": "python",
   "pygments_lexer": "ipython3",
   "version": "3.8.19"
  }
 },
 "nbformat": 4,
 "nbformat_minor": 2
}
